{
 "cells": [
  {
   "cell_type": "code",
   "execution_count": 4,
   "id": "d4213175-8a4a-4e79-8574-cf0032670005",
   "metadata": {},
   "outputs": [],
   "source": [
    "from simple_lama_inpainting import SimpleLama\n",
    "from PIL import Image, ImageOps\n",
    "\n",
    "simple_lama = SimpleLama()\n",
    "\n",
    "img_path = \"images/segmentation_result/2_people_together/2_people_together_background.png\"\n",
    "image = Image.open(img_path)\n",
    "\n",
    "# Check if the image has an alpha channel\n",
    "if image.mode == \"RGBA\":\n",
    "    # Extract the alpha channel (transparency)\n",
    "    alpha = image.split()[3]  # Get the alpha channel\n",
    "    # Invert the alpha channel so that transparent areas (alpha=0) become white (255)\n",
    "    mask = ImageOps.invert(alpha.convert(\"L\"))\n",
    "else:\n",
    "    raise ValueError(\"Image does not have an alpha channel. Please provide an image with transparency.\")\n",
    "\n",
    "# Convert image to RGB if necessary (inpainting models often expect RGB images)\n",
    "result = simple_lama(image.convert(\"RGB\"), mask)\n",
    "result.save(\"images/segmentation_result/2_people_together/inpainted_output.png\")\n"
   ]
  },
  {
   "cell_type": "code",
   "execution_count": null,
   "id": "cf824f72-b675-48c6-8995-5736e411dc85",
   "metadata": {},
   "outputs": [],
   "source": []
  }
 ],
 "metadata": {
  "kernelspec": {
   "display_name": "Python 3 (ipykernel)",
   "language": "python",
   "name": "python3"
  },
  "language_info": {
   "codemirror_mode": {
    "name": "ipython",
    "version": 3
   },
   "file_extension": ".py",
   "mimetype": "text/x-python",
   "name": "python",
   "nbconvert_exporter": "python",
   "pygments_lexer": "ipython3",
   "version": "3.12.7"
  }
 },
 "nbformat": 4,
 "nbformat_minor": 5
}
